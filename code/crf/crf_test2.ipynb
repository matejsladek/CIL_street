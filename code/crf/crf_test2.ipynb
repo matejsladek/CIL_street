{
 "cells": [
  {
   "cell_type": "code",
   "execution_count": 4,
   "metadata": {},
   "outputs": [],
   "source": [
    "from getpass import getpass\n",
    "import urllib\n",
    "import os\n",
    "from random import sample\n",
    "from glob import glob\n",
    "import tensorflow as tf\n",
    "\n",
    "import matplotlib.pyplot as plt\n",
    "import numpy as np\n",
    "from PIL import Image"
   ]
  },
  {
   "cell_type": "code",
   "execution_count": 5,
   "metadata": {},
   "outputs": [
    {
     "name": "stdout",
     "output_type": "stream",
     "text": [
      "['test_10.png', 'test_105.png', 'test_106.png', 'test_107.png', 'test_108.png', 'test_11.png', 'test_115.png', 'test_116.png', 'test_12.png', 'test_121.png', 'test_122.png', 'test_123.png', 'test_124.png', 'test_128.png', 'test_129.png', 'test_130.png', 'test_131.png', 'test_136.png', 'test_137.png', 'test_138.png', 'test_139.png', 'test_14.png', 'test_140.png', 'test_142.png', 'test_143.png', 'test_144.png', 'test_145.png', 'test_15.png', 'test_151.png', 'test_152.png', 'test_153.png', 'test_154.png', 'test_155.png', 'test_157.png', 'test_159.png', 'test_161.png', 'test_162.png', 'test_168.png', 'test_169.png', 'test_170.png', 'test_174.png', 'test_175.png', 'test_176.png', 'test_177.png', 'test_186.png', 'test_187.png', 'test_189.png', 'test_190.png', 'test_191.png', 'test_192.png', 'test_196.png', 'test_200.png', 'test_201.png', 'test_202.png', 'test_204.png', 'test_205.png', 'test_206.png', 'test_207.png', 'test_208.png', 'test_21.png', 'test_211.png', 'test_215.png', 'test_216.png', 'test_218.png', 'test_219.png', 'test_220.png', 'test_221.png', 'test_222.png', 'test_223.png', 'test_23.png', 'test_25.png', 'test_26.png', 'test_27.png', 'test_29.png', 'test_36.png', 'test_40.png', 'test_41.png', 'test_49.png', 'test_50.png', 'test_51.png', 'test_54.png', 'test_61.png', 'test_64.png', 'test_65.png', 'test_69.png', 'test_7.png', 'test_76.png', 'test_79.png', 'test_8.png', 'test_80.png', 'test_9.png', 'test_90.png', 'test_92.png', 'test_93.png']\n"
     ]
    }
   ],
   "source": [
    "#pred_path = \"../../../project/masks/sresnet/marco_best\"\n",
    "pred_path = \"../../../project/test_images/test_images\"\n",
    "\n",
    "pred_list = os.listdir(pred_path)\n",
    "pred_list.sort()\n",
    "\n",
    "print(pred_list)"
   ]
  },
  {
   "cell_type": "code",
   "execution_count": null,
   "metadata": {},
   "outputs": [],
   "source": [
    "\"\"\"\n",
    "model_path = '../../../project/models/model_50epochs_2020_06_13_09_15_11.dms'\n",
    "print(model_path)\n",
    "model = tf.keras.models.load_model(model_path)\n",
    "\"\"\"\n",
    "\n"
   ]
  },
  {
   "cell_type": "code",
   "execution_count": 9,
   "metadata": {},
   "outputs": [
    {
     "name": "stdout",
     "output_type": "stream",
     "text": [
      "(416, 416, 3)\n"
     ]
    },
    {
     "data": {
      "text/plain": [
       "<Figure size 1296x1296 with 0 Axes>"
      ]
     },
     "metadata": {},
     "output_type": "display_data"
    }
   ],
   "source": [
    "#for image_path in pred_list:\n",
    "#  print(image_path)\n",
    "\n",
    "plt.figure(figsize=(18, 18))\n",
    "\n",
    "image_path = pred_list[0]\n",
    "\n",
    "IMG_RESIZE=416\n",
    "#normalize=True\n",
    "\n",
    "image = np.array(Image.open(os.path.join(pred_path, image_path)).resize((IMG_RESIZE, IMG_RESIZE)))\n",
    "\n",
    "IMAGE_SHAPE = np.shape(image)\n",
    "print(IMAGE_SHAPE)\n"
   ]
  },
  {
   "cell_type": "code",
   "execution_count": 10,
   "metadata": {},
   "outputs": [],
   "source": [
    "prob_map = image/255.0\n",
    "#prob_map = prob_map.reshape(IMAGE_SHAPE)\n"
   ]
  },
  {
   "cell_type": "code",
   "execution_count": 11,
   "metadata": {},
   "outputs": [
    {
     "name": "stdout",
     "output_type": "stream",
     "text": [
      "(1, 416, 416, 3)\n"
     ]
    }
   ],
   "source": [
    "image = np.expand_dims(image, 0)\n",
    "\n",
    "print(np.shape(image))\n"
   ]
  },
  {
   "cell_type": "code",
   "execution_count": null,
   "metadata": {
    "colab": {},
    "colab_type": "code",
    "id": "CSZrQLUhU9sA"
   },
   "outputs": [],
   "source": [
    "#output = np.expand_dims(image, 0)\n",
    "output = image.astype(np.uint8)\n",
    "output = output.reshape((416,416,1))\n",
    "output_img = tf.keras.preprocessing.image.array_to_img(output).resize((608, 608))\n",
    "\n",
    "#prob_map = model.predict(image)[0]\n",
    "\n",
    "#output = prob_map * 255.0\n",
    "\n",
    "#output = output.astype(np.uint8)\n",
    "#output_img = tf.keras.preprocessing.image.array_to_img(output).resize((608, 608))\n",
    "\n",
    "print(np.shape(image))\n",
    "#print(np.shape(img_parts))\n",
    "#print(np.shape(output_img))\n",
    "\n",
    "print(np.shape(output_img))\n",
    "plt.imshow(output_img)\n",
    "plt.show()\n",
    "\n",
    "#print(output[0][0])\n",
    "#print(output_img)\n",
    "#print(np.shape(output))\n",
    "#print(np.shape(output_img))"
   ]
  },
  {
   "cell_type": "code",
   "execution_count": null,
   "metadata": {},
   "outputs": [],
   "source": [
    "prob_fb = np.tile(prob_map[np.newaxis,:,:],(2,1,1))\n",
    "prob_fb[1,:,:] = 1 - prob_fb[0,:,:]\n"
   ]
  },
  {
   "cell_type": "code",
   "execution_count": null,
   "metadata": {},
   "outputs": [],
   "source": [
    "prob_fg = np.expand_dims(prob_map,axis=0)\n",
    "print(np.shape(prob_fg))\n",
    "\n",
    "prob_bg = 1 - prob_fg\n",
    "print(np.shape(prob_bg))\n",
    "\n",
    "plt.figure(figsize=(15,5))\n",
    "plt.subplot(1,2,1); plt.imshow(prob_fg[0]); plt.title('Foreground probability'); plt.axis('off'); plt.colorbar();\n",
    "plt.subplot(1,2,2); plt.imshow(prob_bg[0]); plt.title('Background probability'); plt.axis('off'); plt.colorbar();\n"
   ]
  },
  {
   "cell_type": "code",
   "execution_count": null,
   "metadata": {},
   "outputs": [],
   "source": []
  },
  {
   "cell_type": "code",
   "execution_count": null,
   "metadata": {},
   "outputs": [],
   "source": [
    "import pydensecrf.densecrf as dcrf\n",
    "from pydensecrf.utils import unary_from_softmax, create_pairwise_bilateral\n",
    "\n",
    "# Inference without pair-wise terms\n",
    "U = unary_from_softmax(prob_fb)  # note: num classes is first dim\n",
    "print(np.shape(U))\n",
    "d = dcrf.DenseCRF2D(416, 416, 2)\n",
    "d.setUnaryEnergy(U)\n",
    "\n",
    "# Run inference for 10 iterations\n",
    "Q_unary = d.inference(10)\n",
    "\n",
    "# The Q is now the approximate posterior, we can get a MAP estimate using argmax.\n",
    "map_soln_unary = np.argmax(Q_unary, axis=0)\n",
    "\n",
    "# Unfortunately, the DenseCRF flattens everything, so get it back into picture form.\n",
    "map_soln_unary = map_soln_unary.reshape((416,416))\n",
    "\n",
    "# And let's have a look.\n",
    "plt.imshow(map_soln_unary); plt.axis('off'); plt.title('MAP Solution without pairwise terms');"
   ]
  },
  {
   "cell_type": "code",
   "execution_count": null,
   "metadata": {},
   "outputs": [],
   "source": [
    "print(map_soln_unary)"
   ]
  },
  {
   "cell_type": "code",
   "execution_count": null,
   "metadata": {},
   "outputs": [],
   "source": [
    "print(U)"
   ]
  },
  {
   "cell_type": "code",
   "execution_count": null,
   "metadata": {},
   "outputs": [],
   "source": [
    "print(np.shape(image))\n",
    "print(np.shape((output_img)))\n",
    "print(image)\n",
    "print(prob_map)\n",
    "print(np.shape(prob_map))\n",
    "\n",
    "print(image_path)\n"
   ]
  },
  {
   "cell_type": "code",
   "execution_count": null,
   "metadata": {},
   "outputs": [],
   "source": [
    "\"\"\"\n",
    "from scipy.stats import multivariate_normal\n",
    "\n",
    "H, W, NLABELS = 400, 512, 2\n",
    "\n",
    "# This creates a gaussian blob...\n",
    "pos = np.stack(np.mgrid[0:H, 0:W], axis=2)\n",
    "rv = multivariate_normal([H//2, W//2], (H//4)*(W//4))\n",
    "probs = rv.pdf(pos)\n",
    "\n",
    "import pydensecrf.densecrf as dcrf\n",
    "from pydensecrf.utils import unary_from_softmax, create_pairwise_bilateral\n",
    "\n",
    "probs = np.tile(probs[np.newaxis,:,:],(2,1,1))\n",
    "probs[1,:,:] = 1 - probs[0,:,:]\n"
   ]
  },
  {
   "cell_type": "code",
   "execution_count": null,
   "metadata": {},
   "outputs": [],
   "source": [
    "import pydensecrf.densecrf as dcrf\n",
    "from pydensecrf.utils import unary_from_softmax, create_pairwise_bilateral\n",
    "\n",
    "prob_map = np.tile(prob_map[np.newaxis,:,:],(2,1,1))\n",
    "prob_map[1,:,:] = 1 - prob_map[0,:,:]\n",
    "\n",
    "print(np.shape(prob_map))"
   ]
  },
  {
   "cell_type": "code",
   "execution_count": null,
   "metadata": {},
   "outputs": [],
   "source": [
    "print(np.shape(pos))\n",
    "print(np.shape(probs))"
   ]
  },
  {
   "cell_type": "code",
   "execution_count": null,
   "metadata": {},
   "outputs": [],
   "source": [
    "plt.figure()\n",
    "plt.hist(prob_map.flatten(),bins=50)\n",
    "plt.show()"
   ]
  },
  {
   "cell_type": "code",
   "execution_count": null,
   "metadata": {},
   "outputs": [],
   "source": [
    "U = unary_from_softmax(prob_map)\n",
    "print(np.shape(prob_map))\n",
    "print(np.shape(U))"
   ]
  },
  {
   "cell_type": "code",
   "execution_count": null,
   "metadata": {},
   "outputs": [],
   "source": [
    "U = unary_from_softmax(probs)\n",
    "pairwise_energy = create_pairwise_bilateral(sdims=(10,10), schan=(0.01,), img=img, chdim=2)\n",
    "\n",
    "W = 608\n",
    "H = 608\n",
    "NLABELS = 2\n",
    "d = dcrf.DenseCRF2D(W, H, NLABELS)\n",
    "d.setUnaryEnergy(U)\n",
    "d.addPairwiseEnergy(pairwise_energy, compat=10)  # `compat` is the \"strength\" of this potential.\n"
   ]
  },
  {
   "cell_type": "code",
   "execution_count": null,
   "metadata": {},
   "outputs": [],
   "source": [
    "plt.figure(figsize=(18, 18))\n",
    "plt.imshow(tf.keras.preprocessing.image.array_to_img(output_img))\n",
    "plt.axis('off')\n",
    "\n",
    "plt.show()"
   ]
  }
 ],
 "metadata": {
  "colab": {
   "name": "Untitled0.ipynb",
   "provenance": []
  },
  "kernelspec": {
   "display_name": "Python 3",
   "language": "python",
   "name": "python3"
  },
  "language_info": {
   "codemirror_mode": {
    "name": "ipython",
    "version": 3
   },
   "file_extension": ".py",
   "mimetype": "text/x-python",
   "name": "python",
   "nbconvert_exporter": "python",
   "pygments_lexer": "ipython3",
   "version": "3.5.6"
  }
 },
 "nbformat": 4,
 "nbformat_minor": 1
}
