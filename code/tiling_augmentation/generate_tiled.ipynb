{
  "nbformat": 4,
  "nbformat_minor": 0,
  "metadata": {
    "colab": {
      "name": "generate_tiled.ipynb",
      "provenance": [],
      "collapsed_sections": [],
      "toc_visible": true
    },
    "kernelspec": {
      "name": "python3",
      "display_name": "Python 3"
    }
  },
  "cells": [
    {
      "cell_type": "markdown",
      "metadata": {
        "id": "1cDAjMvUirmH",
        "colab_type": "text"
      },
      "source": [
        "##### we run this on Google colab with *local runtime*"
      ]
    },
    {
      "cell_type": "code",
      "metadata": {
        "id": "zQJ76DXOfOT4",
        "colab_type": "code",
        "colab": {
          "base_uri": "https://localhost:8080/",
          "height": 188
        },
        "outputId": "d255c347-4b59-4ca7-c9b3-26539080bd0f"
      },
      "source": [
        "!pip3 install matplotlib\n",
        "!pip3 install scipy"
      ],
      "execution_count": null,
      "outputs": [
        {
          "output_type": "stream",
          "text": [
            "Requirement already satisfied: matplotlib in /home/jonathan/.local/share/virtualenvs/cil_jonathan-yvClE3_o/lib/python3.7/site-packages (3.2.2)\r\n",
            "Requirement already satisfied: kiwisolver>=1.0.1 in /home/jonathan/.local/share/virtualenvs/cil_jonathan-yvClE3_o/lib/python3.7/site-packages (from matplotlib) (1.2.0)\r\n",
            "Requirement already satisfied: pyparsing!=2.0.4,!=2.1.2,!=2.1.6,>=2.0.1 in /home/jonathan/.local/share/virtualenvs/cil_jonathan-yvClE3_o/lib/python3.7/site-packages (from matplotlib) (2.4.7)\r\n",
            "Requirement already satisfied: numpy>=1.11 in /home/jonathan/.local/share/virtualenvs/cil_jonathan-yvClE3_o/lib/python3.7/site-packages (from matplotlib) (1.19.0)\r\n",
            "Requirement already satisfied: cycler>=0.10 in /home/jonathan/.local/share/virtualenvs/cil_jonathan-yvClE3_o/lib/python3.7/site-packages (from matplotlib) (0.10.0)\r\n",
            "Requirement already satisfied: python-dateutil>=2.1 in /home/jonathan/.local/share/virtualenvs/cil_jonathan-yvClE3_o/lib/python3.7/site-packages (from matplotlib) (2.8.1)\r\n",
            "Requirement already satisfied: six in /home/jonathan/.local/share/virtualenvs/cil_jonathan-yvClE3_o/lib/python3.7/site-packages (from cycler>=0.10->matplotlib) (1.15.0)\n",
            "Requirement already satisfied: scipy in /home/jonathan/.local/share/virtualenvs/cil_jonathan-yvClE3_o/lib/python3.7/site-packages (1.4.1)\n",
            "Requirement already satisfied: numpy>=1.13.3 in /home/jonathan/.local/share/virtualenvs/cil_jonathan-yvClE3_o/lib/python3.7/site-packages (from scipy) (1.19.0)\n"
          ],
          "name": "stdout"
        }
      ]
    },
    {
      "cell_type": "code",
      "metadata": {
        "id": "7OImS7MEjMJ7",
        "colab_type": "code",
        "colab": {
          "base_uri": "https://localhost:8080/",
          "height": 34
        },
        "outputId": "359191eb-9d11-47b7-a5d3-a937bdc1e91d"
      },
      "source": [
        "!pwd"
      ],
      "execution_count": null,
      "outputs": [
        {
          "output_type": "stream",
          "text": [
            "/home/jonathan/cil_jonathan\r\n"
          ],
          "name": "stdout"
        }
      ]
    },
    {
      "cell_type": "code",
      "metadata": {
        "id": "2kt_xvXQ87Kv",
        "colab_type": "code",
        "colab": {
          "base_uri": "https://localhost:8080/",
          "height": 70
        },
        "outputId": "e45cce4e-1bc4-41c4-a682-5912d8526d64"
      },
      "source": [
        "from os import walk\n",
        "import cv2\n",
        "import numpy as np\n",
        "\n",
        "base = \"/home/jonathan/CIL-street/data/original/all/\"\n",
        "\n",
        "groundtruth = []\n",
        "for (dirpath, dirnames, filenames) in walk(base + 'groundtruth'):\n",
        "    groundtruth.extend(filenames)\n",
        "    break\n",
        "groundtruth.sort()\n",
        "print(groundtruth)\n",
        "\n",
        "images = []\n",
        "for (dirpath, dirnames, filenames) in walk(base + 'images'):\n",
        "    images.extend(filenames)\n",
        "    break\n",
        "images.sort()\n",
        "print(images)"
      ],
      "execution_count": null,
      "outputs": [
        {
          "output_type": "stream",
          "text": [
            "['satImage_001.png', 'satImage_002.png', 'satImage_003.png', 'satImage_004.png', 'satImage_005.png', 'satImage_006.png', 'satImage_007.png', 'satImage_008.png', 'satImage_009.png', 'satImage_010.png', 'satImage_011.png', 'satImage_012.png', 'satImage_013.png', 'satImage_014.png', 'satImage_015.png', 'satImage_016.png', 'satImage_017.png', 'satImage_018.png', 'satImage_019.png', 'satImage_020.png', 'satImage_021.png', 'satImage_022.png', 'satImage_023.png', 'satImage_024.png', 'satImage_025.png', 'satImage_026.png', 'satImage_027.png', 'satImage_028.png', 'satImage_029.png', 'satImage_030.png', 'satImage_031.png', 'satImage_032.png', 'satImage_033.png', 'satImage_034.png', 'satImage_035.png', 'satImage_036.png', 'satImage_037.png', 'satImage_038.png', 'satImage_039.png', 'satImage_040.png', 'satImage_041.png', 'satImage_042.png', 'satImage_043.png', 'satImage_044.png', 'satImage_045.png', 'satImage_046.png', 'satImage_047.png', 'satImage_048.png', 'satImage_049.png', 'satImage_050.png', 'satImage_051.png', 'satImage_052.png', 'satImage_053.png', 'satImage_054.png', 'satImage_055.png', 'satImage_056.png', 'satImage_057.png', 'satImage_058.png', 'satImage_059.png', 'satImage_060.png', 'satImage_061.png', 'satImage_062.png', 'satImage_063.png', 'satImage_064.png', 'satImage_065.png', 'satImage_066.png', 'satImage_067.png', 'satImage_068.png', 'satImage_069.png', 'satImage_070.png', 'satImage_071.png', 'satImage_072.png', 'satImage_073.png', 'satImage_074.png', 'satImage_075.png', 'satImage_076.png', 'satImage_077.png', 'satImage_078.png', 'satImage_079.png', 'satImage_080.png', 'satImage_081.png', 'satImage_082.png', 'satImage_083.png', 'satImage_084.png', 'satImage_085.png', 'satImage_086.png', 'satImage_087.png', 'satImage_088.png', 'satImage_089.png', 'satImage_090.png', 'satImage_091.png', 'satImage_092.png', 'satImage_093.png', 'satImage_094.png', 'satImage_095.png', 'satImage_096.png', 'satImage_097.png', 'satImage_098.png', 'satImage_099.png', 'satImage_100.png']\n",
            "['satImage_001.png', 'satImage_002.png', 'satImage_003.png', 'satImage_004.png', 'satImage_005.png', 'satImage_006.png', 'satImage_007.png', 'satImage_008.png', 'satImage_009.png', 'satImage_010.png', 'satImage_011.png', 'satImage_012.png', 'satImage_013.png', 'satImage_014.png', 'satImage_015.png', 'satImage_016.png', 'satImage_017.png', 'satImage_018.png', 'satImage_019.png', 'satImage_020.png', 'satImage_021.png', 'satImage_022.png', 'satImage_023.png', 'satImage_024.png', 'satImage_025.png', 'satImage_026.png', 'satImage_027.png', 'satImage_028.png', 'satImage_029.png', 'satImage_030.png', 'satImage_031.png', 'satImage_032.png', 'satImage_033.png', 'satImage_034.png', 'satImage_035.png', 'satImage_036.png', 'satImage_037.png', 'satImage_038.png', 'satImage_039.png', 'satImage_040.png', 'satImage_041.png', 'satImage_042.png', 'satImage_043.png', 'satImage_044.png', 'satImage_045.png', 'satImage_046.png', 'satImage_047.png', 'satImage_048.png', 'satImage_049.png', 'satImage_050.png', 'satImage_051.png', 'satImage_052.png', 'satImage_053.png', 'satImage_054.png', 'satImage_055.png', 'satImage_056.png', 'satImage_057.png', 'satImage_058.png', 'satImage_059.png', 'satImage_060.png', 'satImage_061.png', 'satImage_062.png', 'satImage_063.png', 'satImage_064.png', 'satImage_065.png', 'satImage_066.png', 'satImage_067.png', 'satImage_068.png', 'satImage_069.png', 'satImage_070.png', 'satImage_071.png', 'satImage_072.png', 'satImage_073.png', 'satImage_074.png', 'satImage_075.png', 'satImage_076.png', 'satImage_077.png', 'satImage_078.png', 'satImage_079.png', 'satImage_080.png', 'satImage_081.png', 'satImage_082.png', 'satImage_083.png', 'satImage_084.png', 'satImage_085.png', 'satImage_086.png', 'satImage_087.png', 'satImage_088.png', 'satImage_089.png', 'satImage_090.png', 'satImage_091.png', 'satImage_092.png', 'satImage_093.png', 'satImage_094.png', 'satImage_095.png', 'satImage_096.png', 'satImage_097.png', 'satImage_098.png', 'satImage_099.png', 'satImage_100.png']\n"
          ],
          "name": "stdout"
        }
      ]
    },
    {
      "cell_type": "code",
      "metadata": {
        "id": "xmn6GKHjEYWc",
        "colab_type": "code",
        "colab": {}
      },
      "source": [
        "# https://jdhao.github.io/2019/02/23/crop_rotated_rectangle_opencv/ (how to crop in opencv)\n",
        "\n",
        "def crop(img, angle, trans_x, trans_y):\n",
        "    sidelen = 400\n",
        "    cnt = np.array([\n",
        "            [[sidelen/2, sidelen/2]],\n",
        "            [[-sidelen/2, sidelen/2]],\n",
        "            [[-sidelen/2, -sidelen/2]],\n",
        "            [[sidelen/2, -sidelen/2]]\n",
        "        ])\n",
        "    rad = angle/180 * math.pi\n",
        "    rot = np.array([[math.cos(rad), -math.sin(rad)],\n",
        "          [math.sin(rad), math.cos(rad)]])\n",
        "    print(\"rot\")\n",
        "    print(rot)\n",
        "    A = np.dot(cnt, rot)\n",
        "    A[:,:,0] += trans_x\n",
        "    A[:,:,1] += trans_y\n",
        "\n",
        "    if(np.min(A[:,:,0]) < 0):\n",
        "      A[:,:,0] -= np.min(A[:,:,0])\n",
        "    if(np.max(A[:,:,0]) > sidelen*2):\n",
        "      A[:,:,0] -= (np.max(A[:,:,0])-sidelen*2)\n",
        "    if(np.min(A[:,:,1]) < 0):\n",
        "      A[:,:,1] -= np.min(A[:,:,1])\n",
        "    if(np.max(A[:,:,1]) > sidelen*2):\n",
        "      A[:,:,1] -= (np.max(A[:,:,1])-sidelen*2)\n",
        "\n",
        "    rect = cv2.minAreaRect(A.astype(\"float32\"))\n",
        "    box = cv2.boxPoints(rect)\n",
        "    box = np.int0(box)\n",
        "    clean = img.copy()\n",
        "    cv2.drawContours(img, [box], 0, (0, 0, 255), 2)\n",
        "    old_points = box.astype(\"float32\")\n",
        "    new_points = np.array([[sidelen, sidelen],\n",
        "                        [0, sidelen],\n",
        "                        [0, 0],\n",
        "                        [sidelen, 0]], dtype=\"float32\")\n",
        "\n",
        "    M = cv2.getPerspectiveTransform(old_points, new_points)\n",
        "\n",
        "    # directly warp the rotated rectangle to get the straightened rectangle\n",
        "    warped = cv2.warpPerspective(clean, M, (sidelen, sidelen))\n",
        "\n",
        "    return warped\n"
      ],
      "execution_count": null,
      "outputs": []
    },
    {
      "cell_type": "code",
      "metadata": {
        "id": "OMH6I_8-EZey",
        "colab_type": "code",
        "colab": {}
      },
      "source": [
        "%matplotlib inline"
      ],
      "execution_count": null,
      "outputs": []
    },
    {
      "cell_type": "code",
      "metadata": {
        "id": "n_rTxjGXEchx",
        "colab_type": "code",
        "colab": {}
      },
      "source": [
        "import random\n",
        "import matplotlib.pyplot as plt\n",
        "import math \n",
        "from scipy import ndimage\n",
        "\n",
        "num_images = len(images)\n",
        "print(num_images)\n",
        "\n",
        "base = \"/home/jonathan/CIL-street/data/original/all/\"\n",
        "\n",
        "four_images = []\n",
        "four_gtis = []\n",
        "for i in range(0, 600):\n",
        "  img_a = []\n",
        "  gti_a = []\n",
        "  for a in range(0, 4):\n",
        "    b = random.randint(0, num_images-1)\n",
        "    angle = random.randint(0, 3) * 90\n",
        "    gt = base + \"groundtruth/\" + groundtruth[b]\n",
        "    gti = cv2.imread(gt)\n",
        "    gti = ndimage.rotate(gti, angle)\n",
        "    gti_a.append(gti)\n",
        "    im = base + \"images/\" + images[b]\n",
        "    img = cv2.imread(im)\n",
        "    img = ndimage.rotate(img, angle)\n",
        "    img_a.append(img)\n",
        "\n",
        "  four_gti_top = np.concatenate((gti_a[0], gti_a[1]), axis=1)\n",
        "  four_gti_bottom = np.concatenate((gti_a[2], gti_a[3]), axis=1)\n",
        "  four_gti = np.concatenate((four_gti_top, four_gti_bottom), axis=0)\n",
        "  imgplot = plt.imshow(four_gti)\n",
        "  plt.show()\n",
        "\n",
        "  four_img_top = np.concatenate((img_a[0], img_a[1]), axis=1)\n",
        "  four_img_bottom = np.concatenate((img_a[2], img_a[3]), axis=1)\n",
        "  four_img = np.concatenate((four_img_top, four_img_bottom), axis=0)\n",
        "  imgplot = plt.imshow(four_img)\n",
        "  plt.show()\n",
        "\n",
        "  four_gtis.append(four_gti)\n",
        "  four_images.append(four_img)"
      ],
      "execution_count": null,
      "outputs": []
    },
    {
      "cell_type": "code",
      "metadata": {
        "id": "UgoMwf03EgAS",
        "colab_type": "code",
        "colab": {}
      },
      "source": [
        "sidelen = 400\n",
        "num_generated = 1800\n",
        "num_four_images = len(four_images)\n",
        "base_save = \"/home/jonathan/CIL-street/data/retiled/all/\""
      ],
      "execution_count": null,
      "outputs": []
    },
    {
      "cell_type": "code",
      "metadata": {
        "id": "cvf3vWJ_EiXz",
        "colab_type": "code",
        "colab": {}
      },
      "source": [
        "import matplotlib.pyplot as plt\n",
        "import random\n",
        "import math\n",
        "\n",
        "for i in range(0, num_generated):\n",
        "\n",
        "    b = random.randint(0, num_four_images-1)\n",
        "    four_img = four_images[b].copy()\n",
        "    four_gti = four_gtis[b].copy()\n",
        "\n",
        "    angle = random.random() * 360\n",
        "    trans_x = sidelen/2 + random.random() * sidelen\n",
        "    trans_y = sidelen/2 + random.random() * sidelen\n",
        "    warped = crop(four_img, angle, trans_x, trans_y)\n",
        "    cv2.imwrite(base_save + \"images/img_\" + str(i) + \".png\", warped)\n",
        "\n",
        "    warped_gt = crop(four_gti, angle, trans_x, trans_y)\n",
        "    cv2.imwrite(base_save + \"groundtruth/generated_\" + str(i) + \".jpg\", warped_gt)\n",
        "    \n",
        "    imgplot = plt.imshow(four_gti)\n",
        "    plt.show()\n",
        "    imgplot = plt.imshow(four_img)\n",
        "    plt.show()\n",
        "    imgplot = plt.imshow(warped_gt)\n",
        "    plt.show()\n",
        "    imgplot_warped = plt.imshow(warped)\n",
        "    plt.show()"
      ],
      "execution_count": null,
      "outputs": []
    }
  ]
}